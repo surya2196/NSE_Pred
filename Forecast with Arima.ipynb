{
 "cells": [
  {
   "cell_type": "code",
   "execution_count": 1,
   "metadata": {},
   "outputs": [],
   "source": [
    "import pandas as pd\n",
    "import numpy as np"
   ]
  },
  {
   "cell_type": "code",
   "execution_count": 2,
   "metadata": {},
   "outputs": [],
   "source": [
    "import matplotlib.pyplot as plt\n",
    "%matplotlib inline\n",
    "import seaborn as sns"
   ]
  },
  {
   "cell_type": "code",
   "execution_count": 3,
   "metadata": {},
   "outputs": [
    {
     "data": {
      "text/html": [
       "<div>\n",
       "<style scoped>\n",
       "    .dataframe tbody tr th:only-of-type {\n",
       "        vertical-align: middle;\n",
       "    }\n",
       "\n",
       "    .dataframe tbody tr th {\n",
       "        vertical-align: top;\n",
       "    }\n",
       "\n",
       "    .dataframe thead th {\n",
       "        text-align: right;\n",
       "    }\n",
       "</style>\n",
       "<table border=\"1\" class=\"dataframe\">\n",
       "  <thead>\n",
       "    <tr style=\"text-align: right;\">\n",
       "      <th></th>\n",
       "      <th>Unnamed: 0</th>\n",
       "      <th>SYMBOL</th>\n",
       "      <th>OPEN</th>\n",
       "      <th>HIGH</th>\n",
       "      <th>LOW</th>\n",
       "      <th>CLOSE</th>\n",
       "      <th>TOTTRDQTY</th>\n",
       "      <th>TOTTRDVAL</th>\n",
       "      <th>TIMESTAMP</th>\n",
       "      <th>TOTALTRADES</th>\n",
       "      <th>SECTOR</th>\n",
       "    </tr>\n",
       "  </thead>\n",
       "  <tbody>\n",
       "    <tr>\n",
       "      <td>0</td>\n",
       "      <td>0</td>\n",
       "      <td>20MICRONS</td>\n",
       "      <td>58.95</td>\n",
       "      <td>60.70</td>\n",
       "      <td>57.90</td>\n",
       "      <td>58.75</td>\n",
       "      <td>156506</td>\n",
       "      <td>9316661.05</td>\n",
       "      <td>1/1/2018 0:00</td>\n",
       "      <td>1527</td>\n",
       "      <td>Mining</td>\n",
       "    </tr>\n",
       "    <tr>\n",
       "      <td>1</td>\n",
       "      <td>1</td>\n",
       "      <td>20MICRONS</td>\n",
       "      <td>58.75</td>\n",
       "      <td>60.55</td>\n",
       "      <td>57.65</td>\n",
       "      <td>58.05</td>\n",
       "      <td>173946</td>\n",
       "      <td>10190754.15</td>\n",
       "      <td>1/2/2018 0:00</td>\n",
       "      <td>994</td>\n",
       "      <td>Mining</td>\n",
       "    </tr>\n",
       "    <tr>\n",
       "      <td>2</td>\n",
       "      <td>2</td>\n",
       "      <td>20MICRONS</td>\n",
       "      <td>58.70</td>\n",
       "      <td>60.50</td>\n",
       "      <td>58.50</td>\n",
       "      <td>59.20</td>\n",
       "      <td>191320</td>\n",
       "      <td>11345473.80</td>\n",
       "      <td>1/3/2018 0:00</td>\n",
       "      <td>1004</td>\n",
       "      <td>Mining</td>\n",
       "    </tr>\n",
       "    <tr>\n",
       "      <td>3</td>\n",
       "      <td>3</td>\n",
       "      <td>20MICRONS</td>\n",
       "      <td>59.45</td>\n",
       "      <td>63.20</td>\n",
       "      <td>58.60</td>\n",
       "      <td>62.60</td>\n",
       "      <td>812025</td>\n",
       "      <td>50057113.35</td>\n",
       "      <td>1/4/2018 0:00</td>\n",
       "      <td>5189</td>\n",
       "      <td>Mining</td>\n",
       "    </tr>\n",
       "    <tr>\n",
       "      <td>4</td>\n",
       "      <td>4</td>\n",
       "      <td>20MICRONS</td>\n",
       "      <td>64.80</td>\n",
       "      <td>67.00</td>\n",
       "      <td>63.00</td>\n",
       "      <td>63.60</td>\n",
       "      <td>1129498</td>\n",
       "      <td>73646779.85</td>\n",
       "      <td>1/5/2018 0:00</td>\n",
       "      <td>7645</td>\n",
       "      <td>Mining</td>\n",
       "    </tr>\n",
       "  </tbody>\n",
       "</table>\n",
       "</div>"
      ],
      "text/plain": [
       "   Unnamed: 0     SYMBOL   OPEN   HIGH    LOW  CLOSE  TOTTRDQTY    TOTTRDVAL  \\\n",
       "0           0  20MICRONS  58.95  60.70  57.90  58.75     156506   9316661.05   \n",
       "1           1  20MICRONS  58.75  60.55  57.65  58.05     173946  10190754.15   \n",
       "2           2  20MICRONS  58.70  60.50  58.50  59.20     191320  11345473.80   \n",
       "3           3  20MICRONS  59.45  63.20  58.60  62.60     812025  50057113.35   \n",
       "4           4  20MICRONS  64.80  67.00  63.00  63.60    1129498  73646779.85   \n",
       "\n",
       "       TIMESTAMP  TOTALTRADES  SECTOR  \n",
       "0  1/1/2018 0:00         1527  Mining  \n",
       "1  1/2/2018 0:00          994  Mining  \n",
       "2  1/3/2018 0:00         1004  Mining  \n",
       "3  1/4/2018 0:00         5189  Mining  \n",
       "4  1/5/2018 0:00         7645  Mining  "
      ]
     },
     "execution_count": 3,
     "metadata": {},
     "output_type": "execute_result"
    }
   ],
   "source": [
    "df = pd.read_csv(\"C:\\\\Users\\\\dd\\\\Desktop\\\\IPBA-IIM Indore\\\\Capstone Project\\\\Dataset\\\\MasterFile_Updated.csv\")\n",
    "df.head()"
   ]
  },
  {
   "cell_type": "code",
   "execution_count": 4,
   "metadata": {},
   "outputs": [
    {
     "name": "stdout",
     "output_type": "stream",
     "text": [
      "Enter SECTOR of interest: \n",
      "Auto\n"
     ]
    },
    {
     "data": {
      "text/html": [
       "<div>\n",
       "<style scoped>\n",
       "    .dataframe tbody tr th:only-of-type {\n",
       "        vertical-align: middle;\n",
       "    }\n",
       "\n",
       "    .dataframe tbody tr th {\n",
       "        vertical-align: top;\n",
       "    }\n",
       "\n",
       "    .dataframe thead th {\n",
       "        text-align: right;\n",
       "    }\n",
       "</style>\n",
       "<table border=\"1\" class=\"dataframe\">\n",
       "  <thead>\n",
       "    <tr style=\"text-align: right;\">\n",
       "      <th></th>\n",
       "      <th>Unnamed: 0</th>\n",
       "      <th>SYMBOL</th>\n",
       "      <th>OPEN</th>\n",
       "      <th>HIGH</th>\n",
       "      <th>LOW</th>\n",
       "      <th>CLOSE</th>\n",
       "      <th>TOTTRDQTY</th>\n",
       "      <th>TOTTRDVAL</th>\n",
       "      <th>TIMESTAMP</th>\n",
       "      <th>TOTALTRADES</th>\n",
       "      <th>SECTOR</th>\n",
       "    </tr>\n",
       "  </thead>\n",
       "  <tbody>\n",
       "    <tr>\n",
       "      <td>21991</td>\n",
       "      <td>21991</td>\n",
       "      <td>ASHOKLEY</td>\n",
       "      <td>119.65</td>\n",
       "      <td>122.50</td>\n",
       "      <td>118.05</td>\n",
       "      <td>118.65</td>\n",
       "      <td>10218058</td>\n",
       "      <td>1.231995e+09</td>\n",
       "      <td>1/1/2018 0:00</td>\n",
       "      <td>43098</td>\n",
       "      <td>Auto</td>\n",
       "    </tr>\n",
       "    <tr>\n",
       "      <td>21992</td>\n",
       "      <td>21992</td>\n",
       "      <td>ASHOKLEY</td>\n",
       "      <td>119.25</td>\n",
       "      <td>123.85</td>\n",
       "      <td>117.00</td>\n",
       "      <td>123.35</td>\n",
       "      <td>27656711</td>\n",
       "      <td>3.362837e+09</td>\n",
       "      <td>1/2/2018 0:00</td>\n",
       "      <td>91859</td>\n",
       "      <td>Auto</td>\n",
       "    </tr>\n",
       "  </tbody>\n",
       "</table>\n",
       "</div>"
      ],
      "text/plain": [
       "       Unnamed: 0    SYMBOL    OPEN    HIGH     LOW   CLOSE  TOTTRDQTY  \\\n",
       "21991       21991  ASHOKLEY  119.65  122.50  118.05  118.65   10218058   \n",
       "21992       21992  ASHOKLEY  119.25  123.85  117.00  123.35   27656711   \n",
       "\n",
       "          TOTTRDVAL      TIMESTAMP  TOTALTRADES SECTOR  \n",
       "21991  1.231995e+09  1/1/2018 0:00        43098   Auto  \n",
       "21992  3.362837e+09  1/2/2018 0:00        91859   Auto  "
      ]
     },
     "execution_count": 4,
     "metadata": {},
     "output_type": "execute_result"
    }
   ],
   "source": [
    "print (\"Enter SECTOR of interest: \")\n",
    "sector=input()\n",
    "if sector not in df.values:\n",
    "    print(\"No such SECTOR\")\n",
    "else:\n",
    "    f1=(df['SECTOR']==sector)\n",
    "    df2=df[f1]\n",
    "df2.head(2)"
   ]
  },
  {
   "cell_type": "code",
   "execution_count": 5,
   "metadata": {},
   "outputs": [
    {
     "name": "stderr",
     "output_type": "stream",
     "text": [
      "C:\\Users\\dd\\Anaconda3\\lib\\site-packages\\ipykernel_launcher.py:1: SettingWithCopyWarning: \n",
      "A value is trying to be set on a copy of a slice from a DataFrame.\n",
      "Try using .loc[row_indexer,col_indexer] = value instead\n",
      "\n",
      "See the caveats in the documentation: http://pandas.pydata.org/pandas-docs/stable/user_guide/indexing.html#returning-a-view-versus-a-copy\n",
      "  \"\"\"Entry point for launching an IPython kernel.\n"
     ]
    },
    {
     "data": {
      "text/html": [
       "<div>\n",
       "<style scoped>\n",
       "    .dataframe tbody tr th:only-of-type {\n",
       "        vertical-align: middle;\n",
       "    }\n",
       "\n",
       "    .dataframe tbody tr th {\n",
       "        vertical-align: top;\n",
       "    }\n",
       "\n",
       "    .dataframe thead th {\n",
       "        text-align: right;\n",
       "    }\n",
       "</style>\n",
       "<table border=\"1\" class=\"dataframe\">\n",
       "  <thead>\n",
       "    <tr style=\"text-align: right;\">\n",
       "      <th></th>\n",
       "      <th>Unnamed: 0</th>\n",
       "      <th>SYMBOL</th>\n",
       "      <th>OPEN</th>\n",
       "      <th>HIGH</th>\n",
       "      <th>LOW</th>\n",
       "      <th>CLOSE</th>\n",
       "      <th>TOTTRDQTY</th>\n",
       "      <th>TOTTRDVAL</th>\n",
       "      <th>TOTALTRADES</th>\n",
       "      <th>SECTOR</th>\n",
       "    </tr>\n",
       "    <tr>\n",
       "      <th>TIMESTAMP</th>\n",
       "      <th></th>\n",
       "      <th></th>\n",
       "      <th></th>\n",
       "      <th></th>\n",
       "      <th></th>\n",
       "      <th></th>\n",
       "      <th></th>\n",
       "      <th></th>\n",
       "      <th></th>\n",
       "      <th></th>\n",
       "    </tr>\n",
       "  </thead>\n",
       "  <tbody>\n",
       "    <tr>\n",
       "      <td>2018-01-01</td>\n",
       "      <td>21991</td>\n",
       "      <td>ASHOKLEY</td>\n",
       "      <td>119.65</td>\n",
       "      <td>122.50</td>\n",
       "      <td>118.05</td>\n",
       "      <td>118.65</td>\n",
       "      <td>10218058</td>\n",
       "      <td>1.231995e+09</td>\n",
       "      <td>43098</td>\n",
       "      <td>Auto</td>\n",
       "    </tr>\n",
       "    <tr>\n",
       "      <td>2018-01-02</td>\n",
       "      <td>21992</td>\n",
       "      <td>ASHOKLEY</td>\n",
       "      <td>119.25</td>\n",
       "      <td>123.85</td>\n",
       "      <td>117.00</td>\n",
       "      <td>123.35</td>\n",
       "      <td>27656711</td>\n",
       "      <td>3.362837e+09</td>\n",
       "      <td>91859</td>\n",
       "      <td>Auto</td>\n",
       "    </tr>\n",
       "    <tr>\n",
       "      <td>2018-01-03</td>\n",
       "      <td>21993</td>\n",
       "      <td>ASHOKLEY</td>\n",
       "      <td>124.75</td>\n",
       "      <td>125.80</td>\n",
       "      <td>123.75</td>\n",
       "      <td>124.50</td>\n",
       "      <td>22686568</td>\n",
       "      <td>2.830879e+09</td>\n",
       "      <td>68757</td>\n",
       "      <td>Auto</td>\n",
       "    </tr>\n",
       "    <tr>\n",
       "      <td>2018-01-04</td>\n",
       "      <td>21994</td>\n",
       "      <td>ASHOKLEY</td>\n",
       "      <td>125.25</td>\n",
       "      <td>127.35</td>\n",
       "      <td>123.80</td>\n",
       "      <td>126.95</td>\n",
       "      <td>17032019</td>\n",
       "      <td>2.142969e+09</td>\n",
       "      <td>50307</td>\n",
       "      <td>Auto</td>\n",
       "    </tr>\n",
       "    <tr>\n",
       "      <td>2018-01-05</td>\n",
       "      <td>21995</td>\n",
       "      <td>ASHOKLEY</td>\n",
       "      <td>127.00</td>\n",
       "      <td>128.20</td>\n",
       "      <td>126.00</td>\n",
       "      <td>127.45</td>\n",
       "      <td>8969607</td>\n",
       "      <td>1.139880e+09</td>\n",
       "      <td>38238</td>\n",
       "      <td>Auto</td>\n",
       "    </tr>\n",
       "  </tbody>\n",
       "</table>\n",
       "</div>"
      ],
      "text/plain": [
       "            Unnamed: 0    SYMBOL    OPEN    HIGH     LOW   CLOSE  TOTTRDQTY  \\\n",
       "TIMESTAMP                                                                     \n",
       "2018-01-01       21991  ASHOKLEY  119.65  122.50  118.05  118.65   10218058   \n",
       "2018-01-02       21992  ASHOKLEY  119.25  123.85  117.00  123.35   27656711   \n",
       "2018-01-03       21993  ASHOKLEY  124.75  125.80  123.75  124.50   22686568   \n",
       "2018-01-04       21994  ASHOKLEY  125.25  127.35  123.80  126.95   17032019   \n",
       "2018-01-05       21995  ASHOKLEY  127.00  128.20  126.00  127.45    8969607   \n",
       "\n",
       "               TOTTRDVAL  TOTALTRADES SECTOR  \n",
       "TIMESTAMP                                     \n",
       "2018-01-01  1.231995e+09        43098   Auto  \n",
       "2018-01-02  3.362837e+09        91859   Auto  \n",
       "2018-01-03  2.830879e+09        68757   Auto  \n",
       "2018-01-04  2.142969e+09        50307   Auto  \n",
       "2018-01-05  1.139880e+09        38238   Auto  "
      ]
     },
     "execution_count": 5,
     "metadata": {},
     "output_type": "execute_result"
    }
   ],
   "source": [
    "df2['TIMESTAMP'] = df2['TIMESTAMP'].apply(pd.to_datetime)\n",
    "df2.set_index('TIMESTAMP',inplace=True)\n",
    "df2.head()"
   ]
  },
  {
   "cell_type": "code",
   "execution_count": 6,
   "metadata": {},
   "outputs": [
    {
     "data": {
      "text/plain": [
       "array(['ASHOKLEY', 'ATULAUTO', 'BAJAJ-AUTO', 'EICHERMOT', 'ENDURANCE',\n",
       "       'ESCORTS', 'GNA', 'HEROMOTOCO', 'HINDMOTORS', 'LML', 'M&M',\n",
       "       'MAHSCOOTER', 'MARUTI', 'PRECAM', 'PRICOLLTD', 'RML', 'SETCO',\n",
       "       'SHARDAMOTR', 'SMLISUZU', 'TATAMOTORS', 'TATAMTRDVR', 'TIINDIA',\n",
       "       'TVSMOTOR'], dtype=object)"
      ]
     },
     "execution_count": 6,
     "metadata": {},
     "output_type": "execute_result"
    }
   ],
   "source": [
    "stocks_in_sector=df2['SYMBOL'].unique()\n",
    "stocks_in_sector"
   ]
  },
  {
   "cell_type": "code",
   "execution_count": 7,
   "metadata": {},
   "outputs": [
    {
     "name": "stdout",
     "output_type": "stream",
     "text": [
      "Enter Stock SYMBOL: \n",
      "MARUTI\n"
     ]
    },
    {
     "data": {
      "text/html": [
       "<div>\n",
       "<style scoped>\n",
       "    .dataframe tbody tr th:only-of-type {\n",
       "        vertical-align: middle;\n",
       "    }\n",
       "\n",
       "    .dataframe tbody tr th {\n",
       "        vertical-align: top;\n",
       "    }\n",
       "\n",
       "    .dataframe thead th {\n",
       "        text-align: right;\n",
       "    }\n",
       "</style>\n",
       "<table border=\"1\" class=\"dataframe\">\n",
       "  <thead>\n",
       "    <tr style=\"text-align: right;\">\n",
       "      <th></th>\n",
       "      <th>Unnamed: 0</th>\n",
       "      <th>SYMBOL</th>\n",
       "      <th>OPEN</th>\n",
       "      <th>HIGH</th>\n",
       "      <th>LOW</th>\n",
       "      <th>CLOSE</th>\n",
       "      <th>TOTTRDQTY</th>\n",
       "      <th>TOTTRDVAL</th>\n",
       "      <th>TOTALTRADES</th>\n",
       "      <th>SECTOR</th>\n",
       "    </tr>\n",
       "    <tr>\n",
       "      <th>TIMESTAMP</th>\n",
       "      <th></th>\n",
       "      <th></th>\n",
       "      <th></th>\n",
       "      <th></th>\n",
       "      <th></th>\n",
       "      <th></th>\n",
       "      <th></th>\n",
       "      <th></th>\n",
       "      <th></th>\n",
       "      <th></th>\n",
       "    </tr>\n",
       "  </thead>\n",
       "  <tbody>\n",
       "    <tr>\n",
       "      <td>2018-01-01</td>\n",
       "      <td>178242</td>\n",
       "      <td>MARUTI</td>\n",
       "      <td>9749.0</td>\n",
       "      <td>9789.0</td>\n",
       "      <td>9629.8</td>\n",
       "      <td>9651.90</td>\n",
       "      <td>426354</td>\n",
       "      <td>4.139291e+09</td>\n",
       "      <td>37440</td>\n",
       "      <td>Auto</td>\n",
       "    </tr>\n",
       "    <tr>\n",
       "      <td>2018-01-02</td>\n",
       "      <td>178243</td>\n",
       "      <td>MARUTI</td>\n",
       "      <td>9699.0</td>\n",
       "      <td>9718.6</td>\n",
       "      <td>9525.0</td>\n",
       "      <td>9554.05</td>\n",
       "      <td>451227</td>\n",
       "      <td>4.329811e+09</td>\n",
       "      <td>61125</td>\n",
       "      <td>Auto</td>\n",
       "    </tr>\n",
       "  </tbody>\n",
       "</table>\n",
       "</div>"
      ],
      "text/plain": [
       "            Unnamed: 0  SYMBOL    OPEN    HIGH     LOW    CLOSE  TOTTRDQTY  \\\n",
       "TIMESTAMP                                                                    \n",
       "2018-01-01      178242  MARUTI  9749.0  9789.0  9629.8  9651.90     426354   \n",
       "2018-01-02      178243  MARUTI  9699.0  9718.6  9525.0  9554.05     451227   \n",
       "\n",
       "               TOTTRDVAL  TOTALTRADES SECTOR  \n",
       "TIMESTAMP                                     \n",
       "2018-01-01  4.139291e+09        37440   Auto  \n",
       "2018-01-02  4.329811e+09        61125   Auto  "
      ]
     },
     "execution_count": 7,
     "metadata": {},
     "output_type": "execute_result"
    }
   ],
   "source": [
    "print (\"Enter Stock SYMBOL: \")\n",
    "stock=input()\n",
    "if stock not in df2.values:\n",
    "    print(\"No such STOCK\")\n",
    "else:\n",
    "    f2=(df2['SYMBOL']==stock)\n",
    "    df3=df2[f2]\n",
    "df3.head(2)"
   ]
  },
  {
   "cell_type": "code",
   "execution_count": 8,
   "metadata": {},
   "outputs": [],
   "source": [
    "from pandas.plotting import autocorrelation_plot"
   ]
  },
  {
   "cell_type": "code",
   "execution_count": 9,
   "metadata": {},
   "outputs": [
    {
     "data": {
      "text/plain": [
       "TIMESTAMP\n",
       "2018-01-01    9651.90\n",
       "2018-01-02    9554.05\n",
       "2018-01-03    9416.60\n",
       "2018-01-04    9386.25\n",
       "2018-01-05    9433.85\n",
       "               ...   \n",
       "2018-12-21    7536.30\n",
       "2018-12-24    7529.15\n",
       "2018-12-26    7569.10\n",
       "2018-12-27    7499.95\n",
       "2018-12-28    7505.55\n",
       "Name: CLOSE, Length: 215, dtype: float64"
      ]
     },
     "execution_count": 9,
     "metadata": {},
     "output_type": "execute_result"
    }
   ],
   "source": [
    "close=df3['CLOSE']\n",
    "close"
   ]
  },
  {
   "cell_type": "code",
   "execution_count": 11,
   "metadata": {},
   "outputs": [
    {
     "data": {
      "image/png": "[encoded data removed]",
      "text/plain": [
       "<Figure size 432x288 with 1 Axes>"
      ]
     },
     "metadata": {
      "needs_background": "light"
     },
     "output_type": "display_data"
    }
   ],
   "source": [
    "autocorrelation_plot(close)\n",
    "plt.show()"
   ]
  },
  {
   "cell_type": "raw",
   "metadata": {},
   "source": [
    "#Fitting the model"
   ]
  },
  {
   "cell_type": "code",
   "execution_count": 12,
   "metadata": {},
   "outputs": [],
   "source": [
    "from statsmodels.tsa.arima_model import ARIMA"
   ]
  },
  {
   "cell_type": "code",
   "execution_count": 14,
   "metadata": {},
   "outputs": [
    {
     "name": "stderr",
     "output_type": "stream",
     "text": [
      "C:\\Users\\dd\\Anaconda3\\lib\\site-packages\\statsmodels\\tsa\\base\\tsa_model.py:219: ValueWarning: A date index has been provided, but it has no associated frequency information and so will be ignored when e.g. forecasting.\n",
      "  ' ignored when e.g. forecasting.', ValueWarning)\n",
      "C:\\Users\\dd\\Anaconda3\\lib\\site-packages\\statsmodels\\tsa\\base\\tsa_model.py:219: ValueWarning: A date index has been provided, but it has no associated frequency information and so will be ignored when e.g. forecasting.\n",
      "  ' ignored when e.g. forecasting.', ValueWarning)\n"
     ]
    },
    {
     "name": "stdout",
     "output_type": "stream",
     "text": [
      "                             ARIMA Model Results                              \n",
      "==============================================================================\n",
      "Dep. Variable:                D.CLOSE   No. Observations:                  214\n",
      "Model:                 ARIMA(5, 1, 0)   Log Likelihood               -1344.443\n",
      "Method:                       css-mle   S.D. of innovations            129.466\n",
      "Date:                Thu, 10 Sep 2020   AIC                           2702.887\n",
      "Time:                        15:58:26   BIC                           2726.449\n",
      "Sample:                             1   HQIC                          2712.408\n",
      "                                                                              \n",
      "=================================================================================\n",
      "                    coef    std err          z      P>|z|      [0.025      0.975]\n",
      "---------------------------------------------------------------------------------\n",
      "const           -10.0404      8.925     -1.125      0.262     -27.533       7.453\n",
      "ar.L1.D.CLOSE    -0.0058      0.068     -0.084      0.933      -0.140       0.128\n",
      "ar.L2.D.CLOSE    -0.0449      0.068     -0.659      0.510      -0.178       0.088\n",
      "ar.L3.D.CLOSE    -0.0439      0.068     -0.646      0.519      -0.177       0.089\n",
      "ar.L4.D.CLOSE     0.0745      0.068      1.098      0.273      -0.058       0.207\n",
      "ar.L5.D.CLOSE     0.0293      0.069      0.427      0.670      -0.105       0.164\n",
      "                                    Roots                                    \n",
      "=============================================================================\n",
      "                  Real          Imaginary           Modulus         Frequency\n",
      "-----------------------------------------------------------------------------\n",
      "AR.1            1.8280           -0.0000j            1.8280           -0.0000\n",
      "AR.2            0.2931           -1.6648j            1.6904           -0.2223\n",
      "AR.3            0.2931           +1.6648j            1.6904            0.2223\n",
      "AR.4           -2.4802           -0.6271j            2.5582           -0.4606\n",
      "AR.5           -2.4802           +0.6271j            2.5582            0.4606\n",
      "-----------------------------------------------------------------------------\n"
     ]
    }
   ],
   "source": [
    "model=ARIMA(close,order=(5,1,0))\n",
    "model_fit = model.fit(disp=0)\n",
    "print(model_fit.summary())"
   ]
  },
  {
   "cell_type": "code",
   "execution_count": 15,
   "metadata": {},
   "outputs": [],
   "source": [
    "#Plotting residuals"
   ]
  },
  {
   "cell_type": "code",
   "execution_count": 17,
   "metadata": {},
   "outputs": [
    {
     "data": {
      "image/png": "[encoded data removed]",
      "text/plain": [
       "<Figure size 432x288 with 1 Axes>"
      ]
     },
     "metadata": {
      "needs_background": "light"
     },
     "output_type": "display_data"
    },
    {
     "data": {
      "image/png": "[encoded data removed]",
      "text/plain": [
       "<Figure size 432x288 with 1 Axes>"
      ]
     },
     "metadata": {
      "needs_background": "light"
     },
     "output_type": "display_data"
    },
    {
     "name": "stdout",
     "output_type": "stream",
     "text": [
      "                0\n",
      "count  214.000000\n",
      "mean    -0.019378\n",
      "std    129.774830\n",
      "min   -428.966743\n",
      "25%    -70.886405\n",
      "50%     -3.322801\n",
      "75%     79.647856\n",
      "max    435.202290\n"
     ]
    }
   ],
   "source": [
    "residuals = pd.DataFrame(model_fit.resid)\n",
    "residuals.plot()\n",
    "plt.show()\n",
    "residuals.plot(kind='kde')\n",
    "plt.show()\n",
    "print(residuals.describe())"
   ]
  },
  {
   "cell_type": "code",
   "execution_count": 18,
   "metadata": {},
   "outputs": [],
   "source": [
    "#Rolling forecast ARIMA"
   ]
  },
  {
   "cell_type": "code",
   "execution_count": 19,
   "metadata": {},
   "outputs": [],
   "source": [
    "from sklearn.model_selection import train_test_split\n",
    "from sklearn.metrics import mean_squared_error"
   ]
  },
  {
   "cell_type": "code",
   "execution_count": 20,
   "metadata": {},
   "outputs": [],
   "source": [
    "X = close.values"
   ]
  },
  {
   "cell_type": "code",
   "execution_count": 21,
   "metadata": {},
   "outputs": [],
   "source": [
    "size = int(len(X) * 0.66)\n",
    "train, test = X[0:size], X[size:len(X)]"
   ]
  },
  {
   "cell_type": "code",
   "execution_count": 22,
   "metadata": {},
   "outputs": [],
   "source": [
    "history = [x for x in train]\n",
    "predictions = list()"
   ]
  },
  {
   "cell_type": "code",
   "execution_count": 23,
   "metadata": {},
   "outputs": [
    {
     "name": "stdout",
     "output_type": "stream",
     "text": [
      "predicted=8953.786937, expected=8868.500000\n",
      "predicted=8885.440864, expected=8896.100000\n",
      "predicted=8863.007168, expected=8759.850000\n",
      "predicted=8727.632136, expected=8719.200000\n",
      "predicted=8702.460722, expected=8639.400000\n",
      "predicted=8629.685443, expected=8517.050000\n",
      "predicted=8526.975880, expected=8493.950000\n",
      "predicted=8476.626334, expected=8626.700000\n",
      "predicted=8609.934001, expected=8537.800000\n",
      "predicted=8490.419791, expected=8399.150000\n",
      "predicted=8391.586247, expected=8210.350000\n",
      "predicted=8220.787592, expected=8040.150000\n",
      "predicted=8078.946864, expected=7793.050000\n",
      "predicted=7763.145007, expected=7999.450000\n",
      "predicted=8000.562601, expected=7842.550000\n",
      "predicted=7751.512051, expected=7553.050000\n",
      "predicted=7535.345876, expected=7347.950000\n",
      "predicted=7318.847920, expected=7463.950000\n",
      "predicted=7502.960853, expected=7246.000000\n",
      "predicted=7146.251028, expected=7198.750000\n",
      "predicted=7155.968955, expected=6904.350000\n",
      "predicted=6852.657198, expected=6889.750000\n",
      "predicted=6904.947465, expected=6699.450000\n",
      "predicted=6623.810861, expected=6985.850000\n",
      "predicted=6936.255521, expected=6875.500000\n",
      "predicted=6795.111283, expected=7287.200000\n",
      "predicted=7221.636809, expected=7182.000000\n",
      "predicted=7195.175409, expected=7150.900000\n",
      "predicted=7140.224467, expected=6885.600000\n",
      "predicted=6942.890748, expected=6756.450000\n",
      "predicted=6767.441592, expected=6812.200000\n",
      "predicted=6804.050285, expected=6771.300000\n",
      "predicted=6731.430655, expected=6768.300000\n",
      "predicted=6713.997236, expected=6723.200000\n",
      "predicted=6708.126774, expected=6717.300000\n",
      "predicted=6702.568598, expected=6798.700000\n",
      "predicted=6780.464364, expected=6697.000000\n",
      "predicted=6678.941138, expected=6616.400000\n",
      "predicted=6595.468464, expected=6711.750000\n",
      "predicted=6709.942641, expected=7135.450000\n",
      "predicted=7110.433851, expected=7177.250000\n",
      "predicted=7126.325401, expected=7075.000000\n",
      "predicted=7033.717845, expected=7283.500000\n",
      "predicted=7335.784148, expected=7087.800000\n",
      "predicted=7115.169847, expected=7150.450000\n",
      "predicted=7122.408400, expected=7369.050000\n",
      "predicted=7366.304287, expected=7478.300000\n",
      "predicted=7450.485465, expected=7341.200000\n",
      "predicted=7312.939203, expected=7411.650000\n",
      "predicted=7428.229461, expected=7333.950000\n",
      "predicted=7352.462529, expected=7424.500000\n",
      "predicted=7402.800011, expected=7411.100000\n",
      "predicted=7398.997562, expected=7554.700000\n",
      "predicted=7531.772853, expected=7647.600000\n",
      "predicted=7636.517729, expected=7574.200000\n",
      "predicted=7561.994254, expected=7546.750000\n",
      "predicted=7550.479692, expected=7661.600000\n",
      "predicted=7672.000254, expected=7779.950000\n",
      "predicted=7763.034147, expected=7721.650000\n",
      "predicted=7697.265704, expected=7554.050000\n",
      "predicted=7557.365006, expected=7209.700000\n",
      "predicted=7232.186222, expected=7313.950000\n",
      "predicted=7327.541059, expected=7350.500000\n",
      "predicted=7333.212032, expected=7305.350000\n",
      "predicted=7238.496531, expected=7471.850000\n",
      "predicted=7444.982355, expected=7670.500000\n",
      "predicted=7661.797928, expected=7734.050000\n",
      "predicted=7705.847721, expected=7772.350000\n",
      "predicted=7765.846111, expected=7807.050000\n",
      "predicted=7820.813489, expected=7536.300000\n",
      "predicted=7535.046963, expected=7529.150000\n",
      "predicted=7533.895772, expected=7569.100000\n",
      "predicted=7576.680714, expected=7499.950000\n",
      "predicted=7468.826827, expected=7505.550000\n",
      "Test MSE: 26147.881\n"
     ]
    }
   ],
   "source": [
    "for t in range(len(test)):\n",
    "    model = ARIMA(history, order=(5,1,0))\n",
    "    model_fit = model.fit(disp=0)\n",
    "    output = model_fit.forecast()\n",
    "    yhat = output[0]\n",
    "    predictions.append(yhat)\n",
    "    obs = test[t]\n",
    "    history.append(obs)\n",
    "    print('predicted=%f, expected=%f' % (yhat, obs))\n",
    "error = mean_squared_error(test, predictions)\n",
    "print('Test MSE: %.3f' % error)"
   ]
  },
  {
   "cell_type": "code",
   "execution_count": 24,
   "metadata": {},
   "outputs": [
    {
     "data": {
      "image/png": "[encoded data removed]",
      "text/plain": [
       "<Figure size 432x288 with 1 Axes>"
      ]
     },
     "metadata": {
      "needs_background": "light"
     },
     "output_type": "display_data"
    }
   ],
   "source": [
    "plt.figure(figsize=[10,6])\n",
    "plt.plot(test)\n",
    "plt.plot(predictions, color='red')\n",
    "plt.show()"
   ]
  },
  {
   "cell_type": "code",
   "execution_count": 25,
   "metadata": {},
   "outputs": [],
   "source": [
    "#Gridsearch for best Hyperparamters(p,d,q)"
   ]
  },
  {
   "cell_type": "code",
   "execution_count": 26,
   "metadata": {},
   "outputs": [],
   "source": [
    "def evaluate_arima_model(X, arima_order):\n",
    "    size = int(len(X) * 0.66)\n",
    "    train, test = X[0:size], X[size:len(X)]\n",
    "    history = [x for x in train]\n",
    "    predictions = list()\n",
    "    for t in range(len(test)):\n",
    "        model = ARIMA(history, order=arima_order)\n",
    "        model_fit = model.fit(disp=0)\n",
    "        output = model_fit.forecast()\n",
    "        yhat = output[0]\n",
    "        predictions.append(yhat)\n",
    "        obs = test[t]\n",
    "        history.append(obs)\n",
    "    error = mean_squared_error(test, predictions)\n",
    "    return error   \n",
    "          "
   ]
  },
  {
   "cell_type": "code",
   "execution_count": 27,
   "metadata": {},
   "outputs": [],
   "source": [
    "def evaluate_models(dataset, p_values, d_values, q_values):\n",
    "    dataset = dataset.astype('float32')\n",
    "    best_score, best_cfg = float(\"inf\"), None\n",
    "    for p in p_values:\n",
    "        for d in d_values:\n",
    "            for q in q_values:\n",
    "                order=(p,d,q)\n",
    "                try:\n",
    "                    mse=evaluate_arima_model(dataset,order)\n",
    "                    if mse<best_score:\n",
    "                        best_score,best_cfg= mse, order\n",
    "                    print('ARIMA%s MSE=%.3f' % (order,mse))\n",
    "                except:\n",
    "                    continue\n",
    "    print('Best ARIMA%s MSE=%.3f' % (best_cfg, best_score))                "
   ]
  },
  {
   "cell_type": "code",
   "execution_count": 29,
   "metadata": {},
   "outputs": [],
   "source": [
    "p_values=[0,1,2,3]\n",
    "d_values=range(0,2)\n",
    "q_values=range(0,3)"
   ]
  },
  {
   "cell_type": "code",
   "execution_count": 31,
   "metadata": {},
   "outputs": [],
   "source": [
    "import warnings\n",
    "warnings.filterwarnings(\"ignore\")"
   ]
  },
  {
   "cell_type": "code",
   "execution_count": null,
   "metadata": {},
   "outputs": [
    {
     "name": "stdout",
     "output_type": "stream",
     "text": [
      "ARIMA(0, 0, 0) MSE=1999267.631\n",
      "ARIMA(0, 0, 1) MSE=631600.732\n",
      "ARIMA(0, 1, 0) MSE=23573.641\n",
      "ARIMA(0, 1, 1) MSE=23802.154\n",
      "ARIMA(0, 1, 2) MSE=24819.893\n",
      "ARIMA(0, 2, 0) MSE=47267.691\n",
      "ARIMA(0, 2, 1) MSE=24652.843\n",
      "ARIMA(1, 0, 0) MSE=25203.234\n",
      "ARIMA(1, 1, 0) MSE=23759.692\n",
      "ARIMA(1, 2, 0) MSE=34085.759\n",
      "ARIMA(2, 0, 0) MSE=25508.405\n",
      "ARIMA(2, 1, 0) MSE=24813.197\n",
      "ARIMA(2, 1, 1) MSE=25038.021\n",
      "ARIMA(2, 2, 0) MSE=33798.275\n",
      "ARIMA(2, 2, 1) MSE=26255.613\n",
      "ARIMA(2, 2, 2) MSE=27219.793\n",
      "ARIMA(4, 0, 0) MSE=26547.722\n",
      "ARIMA(4, 1, 0) MSE=25026.883\n",
      "ARIMA(4, 1, 1) MSE=25054.142\n",
      "ARIMA(4, 2, 0) MSE=31213.611\n",
      "ARIMA(4, 2, 1) MSE=26883.338\n",
      "ARIMA(6, 0, 0) MSE=28044.387\n",
      "ARIMA(6, 1, 0) MSE=25778.303\n",
      "ARIMA(6, 1, 1) MSE=26142.777\n",
      "ARIMA(6, 1, 2) MSE=26539.894\n",
      "ARIMA(6, 2, 0) MSE=28387.394\n",
      "ARIMA(6, 2, 1) MSE=26199.503\n",
      "ARIMA(8, 0, 0) MSE=27897.973\n",
      "ARIMA(8, 1, 0) MSE=26076.335\n",
      "ARIMA(8, 1, 1) MSE=26379.490\n",
      "ARIMA(8, 2, 0) MSE=27704.463\n",
      "ARIMA(8, 2, 1) MSE=26633.994\n",
      "ARIMA(8, 2, 2) MSE=27094.822\n",
      "ARIMA(10, 0, 0) MSE=28309.007\n",
      "ARIMA(10, 1, 0) MSE=26632.629\n",
      "ARIMA(10, 1, 1) MSE=26688.448\n"
     ]
    }
   ],
   "source": [
    "evaluate_models(close.values, p_values, d_values, q_values)"
   ]
  },
  {
   "cell_type": "code",
   "execution_count": null,
   "metadata": {},
   "outputs": [],
   "source": []
  }
 ],
 "metadata": {
  "kernelspec": {
   "display_name": "Python 3",
   "language": "python",
   "name": "python3"
  },
  "language_info": {
   "codemirror_mode": {
    "name": "ipython",
    "version": 3
   },
   "file_extension": ".py",
   "mimetype": "text/x-python",
   "name": "python",
   "nbconvert_exporter": "python",
   "pygments_lexer": "ipython3",
   "version": "3.7.4"
  }
 },
 "nbformat": 4,
 "nbformat_minor": 2
}
